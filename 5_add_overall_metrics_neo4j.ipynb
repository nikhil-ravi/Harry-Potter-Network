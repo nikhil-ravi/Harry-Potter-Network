{
 "cells": [
  {
   "cell_type": "code",
   "execution_count": 1,
   "metadata": {},
   "outputs": [
    {
     "name": "stdout",
     "output_type": "stream",
     "text": [
      "Note: to be able to use all crisp methods, you need to install some additional packages:  {'wurlitzer', 'graph_tool', 'infomap', 'bayanpy'}\n",
      "Note: to be able to use all crisp methods, you need to install some additional packages:  {'pyclustering', 'ASLPAw'}\n",
      "Note: to be able to use all crisp methods, you need to install some additional packages:  {'wurlitzer', 'infomap'}\n"
     ]
    }
   ],
   "source": [
    "import pickle\n",
    "from neo4j import GraphDatabase\n",
    "from dotenv import dotenv_values\n",
    "import networkx as nx\n",
    "import numpy as np\n",
    "import matplotlib.pyplot as plt\n",
    "import pandas as pd\n",
    "from cdlib import algorithms, viz, evaluation\n",
    "\n",
    "from hp_nlp_graph.neo4j import add_metrics_to_neo4j"
   ]
  },
  {
   "cell_type": "code",
   "execution_count": 2,
   "metadata": {},
   "outputs": [],
   "source": [
    "interactions_by_chapter = pickle.load(open(\"data/interactions_by_chapter.pkl\", \"rb\"))"
   ]
  },
  {
   "cell_type": "code",
   "execution_count": 3,
   "metadata": {},
   "outputs": [],
   "source": [
    "neo4j_config = dotenv_values(\".env\")\n",
    "driver = GraphDatabase.driver(\n",
    "    neo4j_config[\"NEO4J_URL\"],\n",
    "    auth=(neo4j_config[\"NEO4J_USER\"], neo4j_config[\"NEO4J_PASSWORD\"]),\n",
    ")"
   ]
  },
  {
   "cell_type": "code",
   "execution_count": 4,
   "metadata": {},
   "outputs": [],
   "source": [
    "dfs = []\n",
    "for chapter, distances in interactions_by_chapter.items():\n",
    "    df = pd.DataFrame.from_dict(\n",
    "        dict(distances), orient=\"index\", columns=[\"weight\"]\n",
    "    ).reset_index(names=[\"characters\"])\n",
    "    df[[\"source\", \"target\"]] = pd.DataFrame(df.characters.tolist(), index=df.index)\n",
    "    df[\"chapter\"] = chapter\n",
    "    df[\"book\"] = 1\n",
    "    df = df[[\"source\", \"target\", \"weight\", \"chapter\", \"book\"]]\n",
    "    dfs.append(df)\n",
    "df = (\n",
    "    pd.concat(dfs)\n",
    "    .groupby([\"source\", \"target\"])\n",
    "    .weight.sum()\n",
    "    .sort_values(ascending=False)\n",
    "    .reset_index()\n",
    ")"
   ]
  },
  {
   "cell_type": "code",
   "execution_count": 5,
   "metadata": {},
   "outputs": [],
   "source": [
    "G = nx.from_pandas_edgelist(df, \"source\", \"target\", [\"weight\"], create_using=nx.Graph())"
   ]
  },
  {
   "cell_type": "code",
   "execution_count": 6,
   "metadata": {},
   "outputs": [
    {
     "data": {
      "text/html": [
       "<div>\n",
       "<style scoped>\n",
       "    .dataframe tbody tr th:only-of-type {\n",
       "        vertical-align: middle;\n",
       "    }\n",
       "\n",
       "    .dataframe tbody tr th {\n",
       "        vertical-align: top;\n",
       "    }\n",
       "\n",
       "    .dataframe thead th {\n",
       "        text-align: right;\n",
       "    }\n",
       "</style>\n",
       "<table border=\"1\" class=\"dataframe\">\n",
       "  <thead>\n",
       "    <tr style=\"text-align: right;\">\n",
       "      <th></th>\n",
       "      <th>eigen_centrality</th>\n",
       "      <th>betweenness_centrality</th>\n",
       "      <th>degree_centrality</th>\n",
       "      <th>closeness_centrality</th>\n",
       "      <th>pagerank</th>\n",
       "      <th>hub</th>\n",
       "      <th>authority</th>\n",
       "      <th>degree</th>\n",
       "      <th>weighted_degree</th>\n",
       "    </tr>\n",
       "    <tr>\n",
       "      <th>name</th>\n",
       "      <th></th>\n",
       "      <th></th>\n",
       "      <th></th>\n",
       "      <th></th>\n",
       "      <th></th>\n",
       "      <th></th>\n",
       "      <th></th>\n",
       "      <th></th>\n",
       "      <th></th>\n",
       "    </tr>\n",
       "  </thead>\n",
       "  <tbody>\n",
       "    <tr>\n",
       "      <th>Harry Potter</th>\n",
       "      <td>6.180255e-01</td>\n",
       "      <td>0.314541</td>\n",
       "      <td>0.669421</td>\n",
       "      <td>0.717884</td>\n",
       "      <td>0.203707</td>\n",
       "      <td>1.998641e-01</td>\n",
       "      <td>1.998641e-01</td>\n",
       "      <td>81</td>\n",
       "      <td>3726</td>\n",
       "    </tr>\n",
       "    <tr>\n",
       "      <th>Ronald Weasley</th>\n",
       "      <td>5.111887e-01</td>\n",
       "      <td>0.114445</td>\n",
       "      <td>0.454545</td>\n",
       "      <td>0.573527</td>\n",
       "      <td>0.102588</td>\n",
       "      <td>1.653188e-01</td>\n",
       "      <td>1.653188e-01</td>\n",
       "      <td>55</td>\n",
       "      <td>1982</td>\n",
       "    </tr>\n",
       "    <tr>\n",
       "      <th>Hermione Granger</th>\n",
       "      <td>4.424195e-01</td>\n",
       "      <td>0.058509</td>\n",
       "      <td>0.305785</td>\n",
       "      <td>0.519847</td>\n",
       "      <td>0.076365</td>\n",
       "      <td>1.430776e-01</td>\n",
       "      <td>1.430776e-01</td>\n",
       "      <td>37</td>\n",
       "      <td>1559</td>\n",
       "    </tr>\n",
       "    <tr>\n",
       "      <th>Rubeus Hagrid</th>\n",
       "      <td>2.897066e-01</td>\n",
       "      <td>0.060440</td>\n",
       "      <td>0.305785</td>\n",
       "      <td>0.532974</td>\n",
       "      <td>0.052222</td>\n",
       "      <td>9.369125e-02</td>\n",
       "      <td>9.369125e-02</td>\n",
       "      <td>37</td>\n",
       "      <td>1052</td>\n",
       "    </tr>\n",
       "    <tr>\n",
       "      <th>Severus Snape</th>\n",
       "      <td>1.489497e-01</td>\n",
       "      <td>0.021739</td>\n",
       "      <td>0.214876</td>\n",
       "      <td>0.488560</td>\n",
       "      <td>0.029145</td>\n",
       "      <td>4.817020e-02</td>\n",
       "      <td>4.817020e-02</td>\n",
       "      <td>26</td>\n",
       "      <td>594</td>\n",
       "    </tr>\n",
       "    <tr>\n",
       "      <th>...</th>\n",
       "      <td>...</td>\n",
       "      <td>...</td>\n",
       "      <td>...</td>\n",
       "      <td>...</td>\n",
       "      <td>...</td>\n",
       "      <td>...</td>\n",
       "      <td>...</td>\n",
       "      <td>...</td>\n",
       "      <td>...</td>\n",
       "    </tr>\n",
       "    <tr>\n",
       "      <th>Ptolemy</th>\n",
       "      <td>7.542469e-04</td>\n",
       "      <td>0.020919</td>\n",
       "      <td>0.024793</td>\n",
       "      <td>0.420434</td>\n",
       "      <td>0.001556</td>\n",
       "      <td>2.439220e-04</td>\n",
       "      <td>2.439220e-04</td>\n",
       "      <td>3</td>\n",
       "      <td>3</td>\n",
       "    </tr>\n",
       "    <tr>\n",
       "      <th>Emeric the Evil</th>\n",
       "      <td>8.441879e-06</td>\n",
       "      <td>0.000000</td>\n",
       "      <td>0.016529</td>\n",
       "      <td>0.311295</td>\n",
       "      <td>0.002291</td>\n",
       "      <td>2.730063e-06</td>\n",
       "      <td>2.730063e-06</td>\n",
       "      <td>2</td>\n",
       "      <td>2</td>\n",
       "    </tr>\n",
       "    <tr>\n",
       "      <th>Cliodna</th>\n",
       "      <td>4.122414e-04</td>\n",
       "      <td>0.000000</td>\n",
       "      <td>0.016529</td>\n",
       "      <td>0.409027</td>\n",
       "      <td>0.001966</td>\n",
       "      <td>1.333208e-04</td>\n",
       "      <td>1.333208e-04</td>\n",
       "      <td>2</td>\n",
       "      <td>2</td>\n",
       "    </tr>\n",
       "    <tr>\n",
       "      <th>Susan Bones</th>\n",
       "      <td>2.840072e-07</td>\n",
       "      <td>0.000000</td>\n",
       "      <td>0.008264</td>\n",
       "      <td>0.286763</td>\n",
       "      <td>0.001879</td>\n",
       "      <td>9.184360e-08</td>\n",
       "      <td>9.184360e-08</td>\n",
       "      <td>1</td>\n",
       "      <td>1</td>\n",
       "    </tr>\n",
       "    <tr>\n",
       "      <th>Morag MacDougal</th>\n",
       "      <td>6.092513e-05</td>\n",
       "      <td>0.000000</td>\n",
       "      <td>0.008264</td>\n",
       "      <td>0.322718</td>\n",
       "      <td>0.001279</td>\n",
       "      <td>1.970280e-05</td>\n",
       "      <td>1.970280e-05</td>\n",
       "      <td>1</td>\n",
       "      <td>1</td>\n",
       "    </tr>\n",
       "  </tbody>\n",
       "</table>\n",
       "<p>122 rows × 9 columns</p>\n",
       "</div>"
      ],
      "text/plain": [
       "                  eigen_centrality  betweenness_centrality  degree_centrality  \\\n",
       "name                                                                            \n",
       "Harry Potter          6.180255e-01                0.314541           0.669421   \n",
       "Ronald Weasley        5.111887e-01                0.114445           0.454545   \n",
       "Hermione Granger      4.424195e-01                0.058509           0.305785   \n",
       "Rubeus Hagrid         2.897066e-01                0.060440           0.305785   \n",
       "Severus Snape         1.489497e-01                0.021739           0.214876   \n",
       "...                            ...                     ...                ...   \n",
       "Ptolemy               7.542469e-04                0.020919           0.024793   \n",
       "Emeric the Evil       8.441879e-06                0.000000           0.016529   \n",
       "Cliodna               4.122414e-04                0.000000           0.016529   \n",
       "Susan Bones           2.840072e-07                0.000000           0.008264   \n",
       "Morag MacDougal       6.092513e-05                0.000000           0.008264   \n",
       "\n",
       "                  closeness_centrality  pagerank           hub     authority  \\\n",
       "name                                                                           \n",
       "Harry Potter                  0.717884  0.203707  1.998641e-01  1.998641e-01   \n",
       "Ronald Weasley                0.573527  0.102588  1.653188e-01  1.653188e-01   \n",
       "Hermione Granger              0.519847  0.076365  1.430776e-01  1.430776e-01   \n",
       "Rubeus Hagrid                 0.532974  0.052222  9.369125e-02  9.369125e-02   \n",
       "Severus Snape                 0.488560  0.029145  4.817020e-02  4.817020e-02   \n",
       "...                                ...       ...           ...           ...   \n",
       "Ptolemy                       0.420434  0.001556  2.439220e-04  2.439220e-04   \n",
       "Emeric the Evil               0.311295  0.002291  2.730063e-06  2.730063e-06   \n",
       "Cliodna                       0.409027  0.001966  1.333208e-04  1.333208e-04   \n",
       "Susan Bones                   0.286763  0.001879  9.184360e-08  9.184360e-08   \n",
       "Morag MacDougal               0.322718  0.001279  1.970280e-05  1.970280e-05   \n",
       "\n",
       "                  degree  weighted_degree  \n",
       "name                                       \n",
       "Harry Potter          81             3726  \n",
       "Ronald Weasley        55             1982  \n",
       "Hermione Granger      37             1559  \n",
       "Rubeus Hagrid         37             1052  \n",
       "Severus Snape         26              594  \n",
       "...                  ...              ...  \n",
       "Ptolemy                3                3  \n",
       "Emeric the Evil        2                2  \n",
       "Cliodna                2                2  \n",
       "Susan Bones            1                1  \n",
       "Morag MacDougal        1                1  \n",
       "\n",
       "[122 rows x 9 columns]"
      ]
     },
     "execution_count": 6,
     "metadata": {},
     "output_type": "execute_result"
    }
   ],
   "source": [
    "eigen_centrality = nx.eigenvector_centrality(G, weight=\"weight\")\n",
    "betweenness_centrality = nx.betweenness_centrality(G, weight=\"weight\")\n",
    "degree_centrality = nx.degree_centrality(G)\n",
    "closeness_centrality = nx.closeness_centrality(G)\n",
    "pagerank = nx.pagerank(G, weight=\"weight\")\n",
    "hub_centrality, authority_centrality = nx.hits(G)\n",
    "degree = dict(nx.degree(G))\n",
    "weighted_degree = dict(nx.degree(G, weight=\"weight\"))\n",
    "\n",
    "metrics = {\n",
    "    \"eigen_centrality\": eigen_centrality,\n",
    "    \"betweenness_centrality\": betweenness_centrality,\n",
    "    \"degree_centrality\": degree_centrality,\n",
    "    \"closeness_centrality\": closeness_centrality,\n",
    "    \"pagerank\": pagerank,\n",
    "    \"hub\": hub_centrality,\n",
    "    \"authority\": authority_centrality,\n",
    "    \"degree\": degree,\n",
    "    \"weighted_degree\": weighted_degree,\n",
    "}\n",
    "metrics_df = pd.DataFrame.from_dict(metrics)\n",
    "metrics_df.index.name = \"name\"\n",
    "metrics_df"
   ]
  },
  {
   "cell_type": "code",
   "execution_count": 7,
   "metadata": {},
   "outputs": [],
   "source": [
    "louvain_comms = algorithms.louvain(G, weight=\"weight\")\n",
    "louvain = pd.DataFrame.from_dict(\n",
    "    dict(louvain_comms.to_node_community_map()),\n",
    "    orient=\"index\",\n",
    "    columns=[\"louvain\"],\n",
    ")\n",
    "louvain.index.name = \"name\""
   ]
  },
  {
   "cell_type": "code",
   "execution_count": 8,
   "metadata": {},
   "outputs": [],
   "source": [
    "leiden_comms = algorithms.leiden(G, weights=\"weight\")\n",
    "leiden = pd.DataFrame.from_dict(\n",
    "    dict(leiden_comms.to_node_community_map()),\n",
    "    orient=\"index\",\n",
    "    columns=[\"leiden\"],\n",
    ")\n",
    "leiden.index.name = \"name\""
   ]
  },
  {
   "cell_type": "code",
   "execution_count": 9,
   "metadata": {},
   "outputs": [],
   "source": [
    "girvan_newman_comms = algorithms.girvan_newman(G, level=5)\n",
    "girvan_newman = pd.DataFrame.from_dict(\n",
    "    dict(girvan_newman_comms.to_node_community_map()),\n",
    "    orient=\"index\",\n",
    "    columns=[\"girvan_newman\"],\n",
    ")\n",
    "girvan_newman.index.name = \"name\""
   ]
  },
  {
   "cell_type": "code",
   "execution_count": 10,
   "metadata": {},
   "outputs": [],
   "source": [
    "spectral_comms = algorithms.spectral(G, kmax=8)\n",
    "spectral = pd.DataFrame.from_dict(\n",
    "    dict(spectral_comms.to_node_community_map()),\n",
    "    orient=\"index\",\n",
    "    columns=[\"spectral\"],\n",
    ")\n",
    "spectral.index.name = \"name\""
   ]
  },
  {
   "cell_type": "code",
   "execution_count": 11,
   "metadata": {},
   "outputs": [],
   "source": [
    "metrics_df = metrics_df.join([louvain, leiden, girvan_newman, spectral])"
   ]
  },
  {
   "cell_type": "code",
   "execution_count": 12,
   "metadata": {},
   "outputs": [],
   "source": [
    "metrics_df.to_csv(\"data/metrics.csv\")"
   ]
  },
  {
   "cell_type": "code",
   "execution_count": 13,
   "metadata": {},
   "outputs": [],
   "source": [
    "add_metrics_to_neo4j(driver, metrics_df.reset_index().to_dict(\"records\"))"
   ]
  },
  {
   "cell_type": "code",
   "execution_count": 14,
   "metadata": {},
   "outputs": [],
   "source": [
    "for col in metrics_df.columns:\n",
    "    nx.set_node_attributes(G, metrics_df[col].to_dict(), col)"
   ]
  },
  {
   "cell_type": "code",
   "execution_count": 15,
   "metadata": {},
   "outputs": [],
   "source": [
    "nx.write_gexf(G, \"data/graph.gexf\")"
   ]
  },
  {
   "cell_type": "code",
   "execution_count": 17,
   "metadata": {},
   "outputs": [
    {
     "data": {
      "text/plain": [
       "source    Harry PotterHarry PotterHarry PotterHermione G...\n",
       "target    Ronald WeasleyHermione GrangerRubeus HagridRon...\n",
       "weight                                                 6972\n",
       "dtype: object"
      ]
     },
     "execution_count": 17,
     "metadata": {},
     "output_type": "execute_result"
    }
   ],
   "source": [
    "df.sum()"
   ]
  },
  {
   "cell_type": "code",
   "execution_count": null,
   "metadata": {},
   "outputs": [],
   "source": []
  }
 ],
 "metadata": {
  "kernelspec": {
   "display_name": "hp",
   "language": "python",
   "name": "python3"
  },
  "language_info": {
   "codemirror_mode": {
    "name": "ipython",
    "version": 3
   },
   "file_extension": ".py",
   "mimetype": "text/x-python",
   "name": "python",
   "nbconvert_exporter": "python",
   "pygments_lexer": "ipython3",
   "version": "3.11.5"
  }
 },
 "nbformat": 4,
 "nbformat_minor": 2
}
