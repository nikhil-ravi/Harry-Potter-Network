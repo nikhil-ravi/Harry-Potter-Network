{
 "cells": [
  {
   "cell_type": "code",
   "execution_count": 1,
   "metadata": {},
   "outputs": [],
   "source": [
    "import pickle\n",
    "from neo4j import GraphDatabase\n",
    "from dotenv import dotenv_values\n",
    "from spacy import displacy\n",
    "import networkx as nx\n",
    "import numpy as np\n",
    "import matplotlib.pyplot as plt\n",
    "\n",
    "from hp_nlp_graph.scraper import Chapter, Character\n",
    "from hp_nlp_graph.coreference import (\n",
    "    coref_resolve_and_get_characters_matches_in_chapter,\n",
    "    get_interactions,\n",
    ")\n",
    "from hp_nlp_graph.language import (\n",
    "    get_coref_resolver_nlp,\n",
    "    add_entity_ruler,\n",
    "    get_matcher,\n",
    "    FastCoref,\n",
    ")\n",
    "from hp_nlp_graph.utils import get_characters_seen_till_chapter"
   ]
  },
  {
   "cell_type": "code",
   "execution_count": 2,
   "metadata": {},
   "outputs": [],
   "source": [
    "book_text_path = \"./data/books/3 Prisoner of Azkaban.txt\""
   ]
  },
  {
   "cell_type": "code",
   "execution_count": 3,
   "metadata": {},
   "outputs": [],
   "source": [
    "chapter_characters = {}\n",
    "for book_number in range(1, 8):\n",
    "    chapter_characters[book_number] = pickle.load(\n",
    "        open(f\"data/processed/{book_number}/chapter_characters.pkl\", \"rb\")\n",
    "    )\n",
    "characters = [\n",
    "    character\n",
    "    for book_number, chapters in chapter_characters.items()\n",
    "    for chapter in chapters\n",
    "    for character in chapter.characters\n",
    "]\n",
    "chapter_characters = {\n",
    "    book_number: {chapter.chapter: chapter.characters for chapter in chapters}\n",
    "    for book_number, chapters in chapter_characters.items()\n",
    "}\n",
    "chapters = open(book_text_path, \"r\").read().split(\"CHAPTER \")[1:]"
   ]
  },
  {
   "cell_type": "code",
   "execution_count": 4,
   "metadata": {},
   "outputs": [
    {
     "name": "stderr",
     "output_type": "stream",
     "text": [
      "11/01/2023 11:06:50 - INFO - \t missing_keys: []\n",
      "11/01/2023 11:06:50 - INFO - \t unexpected_keys: []\n",
      "11/01/2023 11:06:50 - INFO - \t mismatched_keys: []\n",
      "11/01/2023 11:06:50 - INFO - \t error_msgs: []\n",
      "11/01/2023 11:06:50 - INFO - \t Model Parameters: 590.0M, Transformer: 434.6M, Coref head: 155.4M\n"
     ]
    }
   ],
   "source": [
    "base_nlp, nlp = get_coref_resolver_nlp(device=\"cuda:0\")\n",
    "base_nlp = add_entity_ruler(base_nlp, characters)\n",
    "nlp = add_entity_ruler(nlp, characters)\n",
    "coref = FastCoref(base_nlp, nlp)"
   ]
  },
  {
   "cell_type": "code",
   "execution_count": 5,
   "metadata": {},
   "outputs": [],
   "source": [
    "# from hp_nlp_graph.language import REMOVE_WORDS\n",
    "\n",
    "# matcher = get_matcher(base_nlp, get_character_dict(chapter_characters, 7, 37))\n",
    "# s = \"Hogwarts house-elves\"\n",
    "# print(matcher.has_key(s), matcher.get(s))\n",
    "# print(set(s.split(\" \")).isdisjoint(set(REMOVE_WORDS)))"
   ]
  },
  {
   "cell_type": "code",
   "execution_count": null,
   "metadata": {},
   "outputs": [],
   "source": [
    "book_number = 3\n",
    "interactions_by_chapter = {}\n",
    "# with open(f\"data/processed/{book_number}/interactions_by_chapter.pkl\", \"rb\") as f:\n",
    "#     interactions_by_chapter = pickle.load(f)\n",
    "for chapter in range(1, len(chapters) + 1):\n",
    "# for chapter in range(19, len(chapters) + 1):\n",
    "    result, resolved_doc = coref_resolve_and_get_characters_matches_in_chapter(\n",
    "        base_nlp=base_nlp,\n",
    "        nlp=nlp,\n",
    "        chapter_text=chapters[chapter - 1],\n",
    "        characters_seen_till_this_chapter=get_characters_seen_till_chapter(\n",
    "            chapter_characters, book_number, chapter\n",
    "        ),\n",
    "        coref_resolver=coref.resolve,\n",
    "    )\n",
    "    interactions_by_chapter[chapter] = dict(get_interactions(result, 14))"
   ]
  },
  {
   "cell_type": "code",
   "execution_count": 8,
   "metadata": {},
   "outputs": [],
   "source": [
    "with open(f\"data/processed/{book_number}/interactions_by_chapter.pkl\", \"wb\") as f:\n",
    "    pickle.dump(interactions_by_chapter, f)"
   ]
  },
  {
   "cell_type": "code",
   "execution_count": null,
   "metadata": {},
   "outputs": [],
   "source": []
  }
 ],
 "metadata": {
  "kernelspec": {
   "display_name": "CPS",
   "language": "python",
   "name": "python3"
  },
  "language_info": {
   "codemirror_mode": {
    "name": "ipython",
    "version": 3
   },
   "file_extension": ".py",
   "mimetype": "text/x-python",
   "name": "python",
   "nbconvert_exporter": "python",
   "pygments_lexer": "ipython3",
   "version": "3.11.5"
  }
 },
 "nbformat": 4,
 "nbformat_minor": 2
}
