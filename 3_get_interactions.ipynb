{
 "cells": [
  {
   "cell_type": "code",
   "execution_count": 1,
   "metadata": {},
   "outputs": [],
   "source": [
    "from src.hp_nlp_graph.reference import (\n",
    "    get_coref_resolver_nlp,\n",
    "    add_entity_ruler,\n",
    "    FastCoref,\n",
    ")\n",
    "\n",
    "import pickle\n",
    "from neo4j import GraphDatabase\n",
    "from dotenv import dotenv_values\n",
    "from spacy import displacy\n",
    "\n",
    "from src.hp_nlp_graph.scraper import Chapter, Character\n",
    "from src.hp_nlp_graph.graph import (\n",
    "    coref_resolve_and_get_characters_matches_in_chapter,\n",
    "    get_interactions,\n",
    "    get_matcher\n",
    ")\n",
    "import pickle\n",
    "import networkx as nx\n",
    "import numpy as np\n",
    "import matplotlib.pyplot as plt"
   ]
  },
  {
   "cell_type": "code",
   "execution_count": 2,
   "metadata": {},
   "outputs": [],
   "source": [
    "chapter_characters = pickle.load(open(\"data/chapter_characters.pkl\", \"rb\"))\n",
    "characters = [\n",
    "    character for chapter in chapter_characters for character in chapter.characters\n",
    "]\n",
    "chapter_characters = {\n",
    "    chapter.chapter: chapter.characters for chapter in chapter_characters\n",
    "}\n",
    "chapters = open(\"./data/books/1 Sorcerer's Stone.txt\", \"r\").read().split(\"CHAPTER \")[1:]\n"
   ]
  },
  {
   "cell_type": "code",
   "execution_count": 4,
   "metadata": {},
   "outputs": [
    {
     "name": "stderr",
     "output_type": "stream",
     "text": [
      "10/21/2023 19:40:06 - INFO - \t missing_keys: []\n",
      "10/21/2023 19:40:06 - INFO - \t unexpected_keys: []\n",
      "10/21/2023 19:40:06 - INFO - \t mismatched_keys: []\n",
      "10/21/2023 19:40:06 - INFO - \t error_msgs: []\n",
      "10/21/2023 19:40:06 - INFO - \t Model Parameters: 590.0M, Transformer: 434.6M, Coref head: 155.4M\n"
     ]
    }
   ],
   "source": [
    "base_nlp, nlp = get_coref_resolver_nlp()\n",
    "base_nlp = add_entity_ruler(base_nlp, characters)\n",
    "nlp = add_entity_ruler(nlp, characters)\n",
    "coref = FastCoref(base_nlp, nlp)\n"
   ]
  },
  {
   "cell_type": "code",
   "execution_count": 4,
   "metadata": {},
   "outputs": [],
   "source": [
    "def get_character_dict(chapter_characters, chapter):\n",
    "    super_list = list()\n",
    "    dicts = [chapter_characters[i] for i in range(1, chapter + 1)]\n",
    "    for d in dicts:\n",
    "        for item in d:\n",
    "            super_list.append(item)\n",
    "    return super_list"
   ]
  },
  {
   "cell_type": "code",
   "execution_count": null,
   "metadata": {},
   "outputs": [],
   "source": [
    "interactions_by_chapter = {}\n",
    "for chapter in range(1, len(chapters) + 1):\n",
    "# for chapter in range(6, 7):\n",
    "    result, resolved_doc = coref_resolve_and_get_characters_matches_in_chapter(\n",
    "        base_nlp=base_nlp,\n",
    "        nlp=nlp,\n",
    "        chapter_text=chapters[chapter - 1],\n",
    "        chapter_characters=get_character_dict(chapter_characters, chapter),\n",
    "        coref_resolver=coref.resolve,\n",
    "    )\n",
    "    interactions_by_chapter[chapter] = dict(get_interactions(result, 14))"
   ]
  },
  {
   "cell_type": "code",
   "execution_count": 13,
   "metadata": {},
   "outputs": [],
   "source": [
    "import pickle\n",
    "\n",
    "with open(\"data/interactions_by_chapter.pkl\", \"wb\") as f:\n",
    "    pickle.dump(interactions_by_chapter, f)"
   ]
  }
 ],
 "metadata": {
  "kernelspec": {
   "display_name": "CPS",
   "language": "python",
   "name": "python3"
  },
  "language_info": {
   "codemirror_mode": {
    "name": "ipython",
    "version": 3
   },
   "file_extension": ".py",
   "mimetype": "text/x-python",
   "name": "python",
   "nbconvert_exporter": "python",
   "pygments_lexer": "ipython3",
   "version": "3.11.5"
  }
 },
 "nbformat": 4,
 "nbformat_minor": 2
}
