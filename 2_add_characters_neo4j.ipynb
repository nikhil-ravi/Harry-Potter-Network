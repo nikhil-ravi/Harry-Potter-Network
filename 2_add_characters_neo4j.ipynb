{
 "cells": [
  {
   "cell_type": "code",
   "execution_count": 1,
   "metadata": {},
   "outputs": [],
   "source": [
    "import pickle\n",
    "from neo4j import GraphDatabase\n",
    "from dotenv import dotenv_values\n",
    "from tqdm import tqdm\n",
    "from src.hp_nlp_graph.scraper import Chapter, Character\n",
    "\n",
    "from src.hp_nlp_graph.neo4j import add_characters_to_neo4j"
   ]
  },
  {
   "cell_type": "code",
   "execution_count": 2,
   "metadata": {},
   "outputs": [],
   "source": [
    "with open(\"./data/chapter_characters.pkl\", \"rb\") as f:\n",
    "    chapter_characters = pickle.load(f)"
   ]
  },
  {
   "cell_type": "code",
   "execution_count": 3,
   "metadata": {},
   "outputs": [],
   "source": [
    "neo4j_config = dotenv_values(\".env\")\n",
    "driver = GraphDatabase.driver(neo4j_config[\"NEO4J_URL\"], auth=(neo4j_config[\"NEO4J_USER\"], neo4j_config[\"NEO4J_PASSWORD\"]))"
   ]
  },
  {
   "cell_type": "code",
   "execution_count": null,
   "metadata": {},
   "outputs": [],
   "source": [
    "add_characters_to_neo4j(driver, chapter_characters)"
   ]
  },
  {
   "cell_type": "code",
   "execution_count": 4,
   "metadata": {},
   "outputs": [
    {
     "name": "stderr",
     "output_type": "stream",
     "text": [
      "  0%|          | 0/17 [00:00<?, ?it/s]"
     ]
    },
    {
     "name": "stderr",
     "output_type": "stream",
     "text": [
      "100%|██████████| 17/17 [00:01<00:00, 10.93it/s]\n"
     ]
    }
   ],
   "source": [
    "# entity_query = \"\"\"\n",
    "# UNWIND $data as row\n",
    "# MERGE (c:Character {name: row.title})\n",
    "# SET c.url = row.href\n",
    "# SET c.aliases = row.aliases\n",
    "# SET c.blood = row.blood_status\n",
    "# SET c.nationality = row.nationality\n",
    "# SET c.species = row.species\n",
    "# SET c.gender = row.gender\n",
    "# FOREACH (h in CASE WHEN row.house IS NOT NULL THEN [1] ELSE [] END | MERGE (house:House {name: row.house}) MERGE (c)-[:BELONGS_TO]->(house))\n",
    "# FOREACH (loyalty IN row.loyalties | MERGE (l:Group {name: loyalty}) MERGE (c)-[:LOYALTY_TO]->(l))\n",
    "# FOREACH (rel IN row.family_relations | MERGE (f:Character {name: rel.person}) MERGE (c)-[t:FAMILY_MEMBER]->(f) SET t.type = rel.type)\n",
    "# \"\"\"\n",
    "\n",
    "# with driver.session() as session:\n",
    "#     for chapter in tqdm(chapter_characters):\n",
    "#         session.run(entity_query, data=[character.__dict__ for character in chapter.characters])\n",
    "\n"
   ]
  },
  {
   "cell_type": "code",
   "execution_count": null,
   "metadata": {},
   "outputs": [],
   "source": []
  }
 ],
 "metadata": {
  "kernelspec": {
   "display_name": "CPS",
   "language": "python",
   "name": "python3"
  },
  "language_info": {
   "codemirror_mode": {
    "name": "ipython",
    "version": 3
   },
   "file_extension": ".py",
   "mimetype": "text/x-python",
   "name": "python",
   "nbconvert_exporter": "python",
   "pygments_lexer": "ipython3",
   "version": "3.11.5"
  }
 },
 "nbformat": 4,
 "nbformat_minor": 2
}
