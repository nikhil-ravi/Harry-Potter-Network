{
 "cells": [
  {
   "cell_type": "code",
   "execution_count": 1,
   "metadata": {},
   "outputs": [],
   "source": [
    "import pickle\n",
    "from neo4j import GraphDatabase\n",
    "from dotenv import dotenv_values\n",
    "from tqdm import tqdm\n",
    "\n",
    "from hp_nlp_graph.scraper import Chapter, Character\n",
    "from hp_nlp_graph.neo4j import add_characters_to_neo4j"
   ]
  },
  {
   "cell_type": "code",
   "execution_count": 2,
   "metadata": {},
   "outputs": [],
   "source": [
    "NUMBER_OF_BOOKS = 7\n",
    "chapter_characters = {}\n",
    "for book_number in range(1, NUMBER_OF_BOOKS + 1):\n",
    "    with open(f\"./data/processed/{book_number}/chapter_characters.pkl\", \"rb\") as f:\n",
    "        chapter_characters[book_number] = pickle.load(f)"
   ]
  },
  {
   "cell_type": "code",
   "execution_count": 3,
   "metadata": {},
   "outputs": [],
   "source": [
    "neo4j_config = dotenv_values(\".env\")\n",
    "driver = GraphDatabase.driver(\n",
    "    neo4j_config[\"NEO4J_URL\"],\n",
    "    auth=(neo4j_config[\"NEO4J_USER\"], neo4j_config[\"NEO4J_PASSWORD\"]),\n",
    ")"
   ]
  },
  {
   "cell_type": "code",
   "execution_count": 4,
   "metadata": {},
   "outputs": [],
   "source": [
    "characters = []\n",
    "for book, chapters in chapter_characters.items():\n",
    "    for chapter in chapters:\n",
    "        characters.extend([character.__dict__ for character in chapter.characters])"
   ]
  },
  {
   "cell_type": "code",
   "execution_count": 5,
   "metadata": {},
   "outputs": [],
   "source": [
    "add_characters_to_neo4j(driver, characters)"
   ]
  },
  {
   "cell_type": "code",
   "execution_count": null,
   "metadata": {},
   "outputs": [],
   "source": []
  },
  {
   "cell_type": "code",
   "execution_count": null,
   "metadata": {},
   "outputs": [],
   "source": []
  }
 ],
 "metadata": {
  "kernelspec": {
   "display_name": "CPS",
   "language": "python",
   "name": "python3"
  },
  "language_info": {
   "codemirror_mode": {
    "name": "ipython",
    "version": 3
   },
   "file_extension": ".py",
   "mimetype": "text/x-python",
   "name": "python",
   "nbconvert_exporter": "python",
   "pygments_lexer": "ipython3",
   "version": "3.11.5"
  }
 },
 "nbformat": 4,
 "nbformat_minor": 2
}
