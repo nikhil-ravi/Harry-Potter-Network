{
 "cells": [
  {
   "cell_type": "markdown",
   "metadata": {},
   "source": [
    "### Purpose: Scrape character information from Harry Potter Wiki\n"
   ]
  },
  {
   "cell_type": "code",
   "execution_count": 1,
   "metadata": {},
   "outputs": [],
   "source": [
    "import pickle\n",
    "import time\n",
    "\n",
    "import pandas as pd\n",
    "from tqdm import tqdm, trange\n",
    "\n",
    "from hp_nlp_graph.scraper import get_characters_by_chapter, CharacterScraper, Chapter, Character"
   ]
  },
  {
   "cell_type": "code",
   "execution_count": 2,
   "metadata": {},
   "outputs": [],
   "source": [
    "\n",
    "character_index_url = pd.read_csv(\"data/character_indices_urls.csv\", index_col=0).to_dict(\n",
    "    orient=\"index\"\n",
    ")\n",
    "for key in character_index_url:\n",
    "    character_index_url[key] = character_index_url[key][\"url\"]"
   ]
  },
  {
   "cell_type": "code",
   "execution_count": 5,
   "metadata": {},
   "outputs": [],
   "source": [
    "scraper = CharacterScraper(url=character_index_url)\n",
    "# scraper.scrape(books_to_scrape=[1, 2, 3, 4, 5, 6, 7])\n",
    "scraper.set_books(directory_path=\"./data/processed\")\n",
    "# scraper.save_characters_by_chapter(\n",
    "#     \"data/processed\", books_to_save=[1, 2, 3, 4, 5, 6, 7]\n",
    "# )\n",
    "scraper.save_dataframe(\"./data/processed\")"
   ]
  },
  {
   "cell_type": "code",
   "execution_count": null,
   "metadata": {},
   "outputs": [],
   "source": []
  }
 ],
 "metadata": {
  "kernelspec": {
   "display_name": "py312",
   "language": "python",
   "name": "python3"
  },
  "language_info": {
   "codemirror_mode": {
    "name": "ipython",
    "version": 3
   },
   "file_extension": ".py",
   "mimetype": "text/x-python",
   "name": "python",
   "nbconvert_exporter": "python",
   "pygments_lexer": "ipython3",
   "version": "3.11.5"
  }
 },
 "nbformat": 4,
 "nbformat_minor": 2
}
