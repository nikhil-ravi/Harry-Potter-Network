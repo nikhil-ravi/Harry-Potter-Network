{
 "cells": [
  {
   "cell_type": "code",
   "execution_count": 1,
   "metadata": {},
   "outputs": [],
   "source": [
    "import pickle\n",
    "\n",
    "from neo4j import GraphDatabase\n",
    "from dotenv import dotenv_values\n",
    "from tqdm import tqdm\n",
    "\n",
    "from hp_nlp_graph.neo4j import add_interactions_to_neo4j"
   ]
  },
  {
   "cell_type": "code",
   "execution_count": 2,
   "metadata": {},
   "outputs": [],
   "source": [
    "book_number = 2\n",
    "interactions_by_chapter = pickle.load(\n",
    "    open(f\"data/processed/{book_number}/interactions_by_chapter.pkl\", \"rb\")\n",
    ")"
   ]
  },
  {
   "cell_type": "code",
   "execution_count": 3,
   "metadata": {},
   "outputs": [],
   "source": [
    "neo4j_config = dotenv_values(\".env\")\n",
    "driver = GraphDatabase.driver(\n",
    "    neo4j_config[\"NEO4J_URL\"],\n",
    "    auth=(neo4j_config[\"NEO4J_USER\"], neo4j_config[\"NEO4J_PASSWORD\"]),\n",
    ")"
   ]
  },
  {
   "cell_type": "code",
   "execution_count": 4,
   "metadata": {},
   "outputs": [
    {
     "name": "stderr",
     "output_type": "stream",
     "text": [
      "100%|██████████| 17/17 [00:03<00:00,  4.65it/s]\n"
     ]
    }
   ],
   "source": [
    "for chapter, interactions in tqdm(interactions_by_chapter.items()):\n",
    "    add_interactions_to_neo4j(driver, interactions)"
   ]
  },
  {
   "cell_type": "code",
   "execution_count": null,
   "metadata": {},
   "outputs": [],
   "source": []
  }
 ],
 "metadata": {
  "kernelspec": {
   "display_name": "hp",
   "language": "python",
   "name": "python3"
  },
  "language_info": {
   "codemirror_mode": {
    "name": "ipython",
    "version": 3
   },
   "file_extension": ".py",
   "mimetype": "text/x-python",
   "name": "python",
   "nbconvert_exporter": "python",
   "pygments_lexer": "ipython3",
   "version": "3.11.5"
  }
 },
 "nbformat": 4,
 "nbformat_minor": 2
}
